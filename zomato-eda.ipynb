{
 "cells": [
  {
   "cell_type": "code",
   "execution_count": 1,
   "id": "bcd1d067",
   "metadata": {
    "_cell_guid": "b1076dfc-b9ad-4769-8c92-a6c4dae69d19",
    "_uuid": "8f2839f25d086af736a60e9eeb907d3b93b6e0e5",
    "execution": {
     "iopub.execute_input": "2024-02-22T13:29:51.288199Z",
     "iopub.status.busy": "2024-02-22T13:29:51.287516Z",
     "iopub.status.idle": "2024-02-22T13:29:53.608870Z",
     "shell.execute_reply": "2024-02-22T13:29:53.607226Z"
    },
    "papermill": {
     "duration": 2.33951,
     "end_time": "2024-02-22T13:29:53.611503",
     "exception": false,
     "start_time": "2024-02-22T13:29:51.271993",
     "status": "completed"
    },
    "tags": []
   },
   "outputs": [
    {
     "name": "stdout",
     "output_type": "stream",
     "text": [
      "/kaggle/input/zomato-bangalore-restaurants/zomato.csv\n"
     ]
    }
   ],
   "source": [
    "# This Python 3 environment comes with many helpful analytics libraries installed\n",
    "# It is defined by the kaggle/python Docker image: https://github.com/kaggle/docker-python\n",
    "# For example, here's several helpful packages to load\n",
    "\n",
    "import numpy as np # linear algebra\n",
    "import pandas as pd # data processing, CSV file I/O (e.g. pd.read_csv)\n",
    "import seaborn as sns\n",
    "import matplotlib.pyplot as plt\n",
    "# Input data files are available in the read-only \"../input/\" directory\n",
    "# For example, running this (by clicking run or pressing Shift+Enter) will list all files under the input directory\n",
    "\n",
    "import os\n",
    "for dirname, _, filenames in os.walk('/kaggle/input'):\n",
    "    for filename in filenames:\n",
    "        print(os.path.join(dirname, filename))\n",
    "\n",
    "# You can write up to 20GB to the current directory (/kaggle/working/) that gets preserved as output when you create a version using \"Save & Run All\" \n",
    "# You can also write temporary files to /kaggle/temp/, but they won't be saved outside of the current session"
   ]
  },
  {
   "cell_type": "code",
   "execution_count": null,
   "id": "b4168a14",
   "metadata": {
    "papermill": {
     "duration": 0.011651,
     "end_time": "2024-02-22T13:29:53.635492",
     "exception": false,
     "start_time": "2024-02-22T13:29:53.623841",
     "status": "completed"
    },
    "tags": []
   },
   "outputs": [],
   "source": []
  },
  {
   "cell_type": "code",
   "execution_count": 2,
   "id": "8681fef1",
   "metadata": {
    "execution": {
     "iopub.execute_input": "2024-02-22T13:29:53.662002Z",
     "iopub.status.busy": "2024-02-22T13:29:53.660900Z",
     "iopub.status.idle": "2024-02-22T13:30:05.805210Z",
     "shell.execute_reply": "2024-02-22T13:30:05.803924Z"
    },
    "papermill": {
     "duration": 12.160844,
     "end_time": "2024-02-22T13:30:05.808376",
     "exception": false,
     "start_time": "2024-02-22T13:29:53.647532",
     "status": "completed"
    },
    "tags": []
   },
   "outputs": [],
   "source": [
    "df = pd.read_csv('/kaggle/input/zomato-bangalore-restaurants/zomato.csv')"
   ]
  },
  {
   "cell_type": "code",
   "execution_count": 3,
   "id": "21ba1269",
   "metadata": {
    "execution": {
     "iopub.execute_input": "2024-02-22T13:30:05.836676Z",
     "iopub.status.busy": "2024-02-22T13:30:05.836173Z",
     "iopub.status.idle": "2024-02-22T13:30:05.863683Z",
     "shell.execute_reply": "2024-02-22T13:30:05.862432Z"
    },
    "papermill": {
     "duration": 0.04519,
     "end_time": "2024-02-22T13:30:05.867327",
     "exception": false,
     "start_time": "2024-02-22T13:30:05.822137",
     "status": "completed"
    },
    "tags": []
   },
   "outputs": [
    {
     "data": {
      "text/html": [
       "<div>\n",
       "<style scoped>\n",
       "    .dataframe tbody tr th:only-of-type {\n",
       "        vertical-align: middle;\n",
       "    }\n",
       "\n",
       "    .dataframe tbody tr th {\n",
       "        vertical-align: top;\n",
       "    }\n",
       "\n",
       "    .dataframe thead th {\n",
       "        text-align: right;\n",
       "    }\n",
       "</style>\n",
       "<table border=\"1\" class=\"dataframe\">\n",
       "  <thead>\n",
       "    <tr style=\"text-align: right;\">\n",
       "      <th></th>\n",
       "      <th>url</th>\n",
       "      <th>address</th>\n",
       "      <th>name</th>\n",
       "      <th>online_order</th>\n",
       "      <th>book_table</th>\n",
       "      <th>rate</th>\n",
       "      <th>votes</th>\n",
       "      <th>phone</th>\n",
       "      <th>location</th>\n",
       "      <th>rest_type</th>\n",
       "      <th>dish_liked</th>\n",
       "      <th>cuisines</th>\n",
       "      <th>approx_cost(for two people)</th>\n",
       "      <th>reviews_list</th>\n",
       "      <th>menu_item</th>\n",
       "      <th>listed_in(type)</th>\n",
       "      <th>listed_in(city)</th>\n",
       "    </tr>\n",
       "  </thead>\n",
       "  <tbody>\n",
       "    <tr>\n",
       "      <th>0</th>\n",
       "      <td>https://www.zomato.com/bangalore/jalsa-banasha...</td>\n",
       "      <td>942, 21st Main Road, 2nd Stage, Banashankari, ...</td>\n",
       "      <td>Jalsa</td>\n",
       "      <td>Yes</td>\n",
       "      <td>Yes</td>\n",
       "      <td>4.1/5</td>\n",
       "      <td>775</td>\n",
       "      <td>080 42297555\\r\\n+91 9743772233</td>\n",
       "      <td>Banashankari</td>\n",
       "      <td>Casual Dining</td>\n",
       "      <td>Pasta, Lunch Buffet, Masala Papad, Paneer Laja...</td>\n",
       "      <td>North Indian, Mughlai, Chinese</td>\n",
       "      <td>800</td>\n",
       "      <td>[('Rated 4.0', 'RATED\\n  A beautiful place to ...</td>\n",
       "      <td>[]</td>\n",
       "      <td>Buffet</td>\n",
       "      <td>Banashankari</td>\n",
       "    </tr>\n",
       "    <tr>\n",
       "      <th>1</th>\n",
       "      <td>https://www.zomato.com/bangalore/spice-elephan...</td>\n",
       "      <td>2nd Floor, 80 Feet Road, Near Big Bazaar, 6th ...</td>\n",
       "      <td>Spice Elephant</td>\n",
       "      <td>Yes</td>\n",
       "      <td>No</td>\n",
       "      <td>4.1/5</td>\n",
       "      <td>787</td>\n",
       "      <td>080 41714161</td>\n",
       "      <td>Banashankari</td>\n",
       "      <td>Casual Dining</td>\n",
       "      <td>Momos, Lunch Buffet, Chocolate Nirvana, Thai G...</td>\n",
       "      <td>Chinese, North Indian, Thai</td>\n",
       "      <td>800</td>\n",
       "      <td>[('Rated 4.0', 'RATED\\n  Had been here for din...</td>\n",
       "      <td>[]</td>\n",
       "      <td>Buffet</td>\n",
       "      <td>Banashankari</td>\n",
       "    </tr>\n",
       "    <tr>\n",
       "      <th>2</th>\n",
       "      <td>https://www.zomato.com/SanchurroBangalore?cont...</td>\n",
       "      <td>1112, Next to KIMS Medical College, 17th Cross...</td>\n",
       "      <td>San Churro Cafe</td>\n",
       "      <td>Yes</td>\n",
       "      <td>No</td>\n",
       "      <td>3.8/5</td>\n",
       "      <td>918</td>\n",
       "      <td>+91 9663487993</td>\n",
       "      <td>Banashankari</td>\n",
       "      <td>Cafe, Casual Dining</td>\n",
       "      <td>Churros, Cannelloni, Minestrone Soup, Hot Choc...</td>\n",
       "      <td>Cafe, Mexican, Italian</td>\n",
       "      <td>800</td>\n",
       "      <td>[('Rated 3.0', \"RATED\\n  Ambience is not that ...</td>\n",
       "      <td>[]</td>\n",
       "      <td>Buffet</td>\n",
       "      <td>Banashankari</td>\n",
       "    </tr>\n",
       "    <tr>\n",
       "      <th>3</th>\n",
       "      <td>https://www.zomato.com/bangalore/addhuri-udupi...</td>\n",
       "      <td>1st Floor, Annakuteera, 3rd Stage, Banashankar...</td>\n",
       "      <td>Addhuri Udupi Bhojana</td>\n",
       "      <td>No</td>\n",
       "      <td>No</td>\n",
       "      <td>3.7/5</td>\n",
       "      <td>88</td>\n",
       "      <td>+91 9620009302</td>\n",
       "      <td>Banashankari</td>\n",
       "      <td>Quick Bites</td>\n",
       "      <td>Masala Dosa</td>\n",
       "      <td>South Indian, North Indian</td>\n",
       "      <td>300</td>\n",
       "      <td>[('Rated 4.0', \"RATED\\n  Great food and proper...</td>\n",
       "      <td>[]</td>\n",
       "      <td>Buffet</td>\n",
       "      <td>Banashankari</td>\n",
       "    </tr>\n",
       "    <tr>\n",
       "      <th>4</th>\n",
       "      <td>https://www.zomato.com/bangalore/grand-village...</td>\n",
       "      <td>10, 3rd Floor, Lakshmi Associates, Gandhi Baza...</td>\n",
       "      <td>Grand Village</td>\n",
       "      <td>No</td>\n",
       "      <td>No</td>\n",
       "      <td>3.8/5</td>\n",
       "      <td>166</td>\n",
       "      <td>+91 8026612447\\r\\n+91 9901210005</td>\n",
       "      <td>Basavanagudi</td>\n",
       "      <td>Casual Dining</td>\n",
       "      <td>Panipuri, Gol Gappe</td>\n",
       "      <td>North Indian, Rajasthani</td>\n",
       "      <td>600</td>\n",
       "      <td>[('Rated 4.0', 'RATED\\n  Very good restaurant ...</td>\n",
       "      <td>[]</td>\n",
       "      <td>Buffet</td>\n",
       "      <td>Banashankari</td>\n",
       "    </tr>\n",
       "  </tbody>\n",
       "</table>\n",
       "</div>"
      ],
      "text/plain": [
       "                                                 url  \\\n",
       "0  https://www.zomato.com/bangalore/jalsa-banasha...   \n",
       "1  https://www.zomato.com/bangalore/spice-elephan...   \n",
       "2  https://www.zomato.com/SanchurroBangalore?cont...   \n",
       "3  https://www.zomato.com/bangalore/addhuri-udupi...   \n",
       "4  https://www.zomato.com/bangalore/grand-village...   \n",
       "\n",
       "                                             address                   name  \\\n",
       "0  942, 21st Main Road, 2nd Stage, Banashankari, ...                  Jalsa   \n",
       "1  2nd Floor, 80 Feet Road, Near Big Bazaar, 6th ...         Spice Elephant   \n",
       "2  1112, Next to KIMS Medical College, 17th Cross...        San Churro Cafe   \n",
       "3  1st Floor, Annakuteera, 3rd Stage, Banashankar...  Addhuri Udupi Bhojana   \n",
       "4  10, 3rd Floor, Lakshmi Associates, Gandhi Baza...          Grand Village   \n",
       "\n",
       "  online_order book_table   rate  votes                             phone  \\\n",
       "0          Yes        Yes  4.1/5    775    080 42297555\\r\\n+91 9743772233   \n",
       "1          Yes         No  4.1/5    787                      080 41714161   \n",
       "2          Yes         No  3.8/5    918                    +91 9663487993   \n",
       "3           No         No  3.7/5     88                    +91 9620009302   \n",
       "4           No         No  3.8/5    166  +91 8026612447\\r\\n+91 9901210005   \n",
       "\n",
       "       location            rest_type  \\\n",
       "0  Banashankari        Casual Dining   \n",
       "1  Banashankari        Casual Dining   \n",
       "2  Banashankari  Cafe, Casual Dining   \n",
       "3  Banashankari          Quick Bites   \n",
       "4  Basavanagudi        Casual Dining   \n",
       "\n",
       "                                          dish_liked  \\\n",
       "0  Pasta, Lunch Buffet, Masala Papad, Paneer Laja...   \n",
       "1  Momos, Lunch Buffet, Chocolate Nirvana, Thai G...   \n",
       "2  Churros, Cannelloni, Minestrone Soup, Hot Choc...   \n",
       "3                                        Masala Dosa   \n",
       "4                                Panipuri, Gol Gappe   \n",
       "\n",
       "                         cuisines approx_cost(for two people)  \\\n",
       "0  North Indian, Mughlai, Chinese                         800   \n",
       "1     Chinese, North Indian, Thai                         800   \n",
       "2          Cafe, Mexican, Italian                         800   \n",
       "3      South Indian, North Indian                         300   \n",
       "4        North Indian, Rajasthani                         600   \n",
       "\n",
       "                                        reviews_list menu_item  \\\n",
       "0  [('Rated 4.0', 'RATED\\n  A beautiful place to ...        []   \n",
       "1  [('Rated 4.0', 'RATED\\n  Had been here for din...        []   \n",
       "2  [('Rated 3.0', \"RATED\\n  Ambience is not that ...        []   \n",
       "3  [('Rated 4.0', \"RATED\\n  Great food and proper...        []   \n",
       "4  [('Rated 4.0', 'RATED\\n  Very good restaurant ...        []   \n",
       "\n",
       "  listed_in(type) listed_in(city)  \n",
       "0          Buffet    Banashankari  \n",
       "1          Buffet    Banashankari  \n",
       "2          Buffet    Banashankari  \n",
       "3          Buffet    Banashankari  \n",
       "4          Buffet    Banashankari  "
      ]
     },
     "execution_count": 3,
     "metadata": {},
     "output_type": "execute_result"
    }
   ],
   "source": [
    "df.head()"
   ]
  },
  {
   "cell_type": "code",
   "execution_count": 4,
   "id": "4dd6c132",
   "metadata": {
    "execution": {
     "iopub.execute_input": "2024-02-22T13:30:05.894776Z",
     "iopub.status.busy": "2024-02-22T13:30:05.894306Z",
     "iopub.status.idle": "2024-02-22T13:30:05.914347Z",
     "shell.execute_reply": "2024-02-22T13:30:05.913216Z"
    },
    "papermill": {
     "duration": 0.036504,
     "end_time": "2024-02-22T13:30:05.916772",
     "exception": false,
     "start_time": "2024-02-22T13:30:05.880268",
     "status": "completed"
    },
    "tags": []
   },
   "outputs": [
    {
     "data": {
      "text/html": [
       "<div>\n",
       "<style scoped>\n",
       "    .dataframe tbody tr th:only-of-type {\n",
       "        vertical-align: middle;\n",
       "    }\n",
       "\n",
       "    .dataframe tbody tr th {\n",
       "        vertical-align: top;\n",
       "    }\n",
       "\n",
       "    .dataframe thead th {\n",
       "        text-align: right;\n",
       "    }\n",
       "</style>\n",
       "<table border=\"1\" class=\"dataframe\">\n",
       "  <thead>\n",
       "    <tr style=\"text-align: right;\">\n",
       "      <th></th>\n",
       "      <th>url</th>\n",
       "      <th>address</th>\n",
       "      <th>name</th>\n",
       "      <th>online_order</th>\n",
       "      <th>book_table</th>\n",
       "      <th>rate</th>\n",
       "      <th>votes</th>\n",
       "      <th>phone</th>\n",
       "      <th>location</th>\n",
       "      <th>rest_type</th>\n",
       "      <th>dish_liked</th>\n",
       "      <th>cuisines</th>\n",
       "      <th>approx_cost(for two people)</th>\n",
       "      <th>reviews_list</th>\n",
       "      <th>menu_item</th>\n",
       "      <th>listed_in(type)</th>\n",
       "      <th>listed_in(city)</th>\n",
       "    </tr>\n",
       "  </thead>\n",
       "  <tbody>\n",
       "    <tr>\n",
       "      <th>51712</th>\n",
       "      <td>https://www.zomato.com/bangalore/best-brews-fo...</td>\n",
       "      <td>Four Points by Sheraton Bengaluru, 43/3, White...</td>\n",
       "      <td>Best Brews - Four Points by Sheraton Bengaluru...</td>\n",
       "      <td>No</td>\n",
       "      <td>No</td>\n",
       "      <td>3.6 /5</td>\n",
       "      <td>27</td>\n",
       "      <td>080 40301477</td>\n",
       "      <td>Whitefield</td>\n",
       "      <td>Bar</td>\n",
       "      <td>NaN</td>\n",
       "      <td>Continental</td>\n",
       "      <td>1,500</td>\n",
       "      <td>[('Rated 5.0', \"RATED\\n  Food and service are ...</td>\n",
       "      <td>[]</td>\n",
       "      <td>Pubs and bars</td>\n",
       "      <td>Whitefield</td>\n",
       "    </tr>\n",
       "    <tr>\n",
       "      <th>51713</th>\n",
       "      <td>https://www.zomato.com/bangalore/vinod-bar-and...</td>\n",
       "      <td>Number 10, Garudachar Palya, Mahadevapura, Whi...</td>\n",
       "      <td>Vinod Bar And Restaurant</td>\n",
       "      <td>No</td>\n",
       "      <td>No</td>\n",
       "      <td>NaN</td>\n",
       "      <td>0</td>\n",
       "      <td>+91 8197675843</td>\n",
       "      <td>Whitefield</td>\n",
       "      <td>Bar</td>\n",
       "      <td>NaN</td>\n",
       "      <td>Finger Food</td>\n",
       "      <td>600</td>\n",
       "      <td>[]</td>\n",
       "      <td>[]</td>\n",
       "      <td>Pubs and bars</td>\n",
       "      <td>Whitefield</td>\n",
       "    </tr>\n",
       "    <tr>\n",
       "      <th>51714</th>\n",
       "      <td>https://www.zomato.com/bangalore/plunge-sherat...</td>\n",
       "      <td>Sheraton Grand Bengaluru Whitefield Hotel &amp; Co...</td>\n",
       "      <td>Plunge - Sheraton Grand Bengaluru Whitefield H...</td>\n",
       "      <td>No</td>\n",
       "      <td>No</td>\n",
       "      <td>NaN</td>\n",
       "      <td>0</td>\n",
       "      <td>NaN</td>\n",
       "      <td>Whitefield</td>\n",
       "      <td>Bar</td>\n",
       "      <td>NaN</td>\n",
       "      <td>Finger Food</td>\n",
       "      <td>2,000</td>\n",
       "      <td>[]</td>\n",
       "      <td>[]</td>\n",
       "      <td>Pubs and bars</td>\n",
       "      <td>Whitefield</td>\n",
       "    </tr>\n",
       "    <tr>\n",
       "      <th>51715</th>\n",
       "      <td>https://www.zomato.com/bangalore/chime-sherato...</td>\n",
       "      <td>Sheraton Grand Bengaluru Whitefield Hotel &amp; Co...</td>\n",
       "      <td>Chime - Sheraton Grand Bengaluru Whitefield Ho...</td>\n",
       "      <td>No</td>\n",
       "      <td>Yes</td>\n",
       "      <td>4.3 /5</td>\n",
       "      <td>236</td>\n",
       "      <td>080 49652769</td>\n",
       "      <td>ITPL Main Road, Whitefield</td>\n",
       "      <td>Bar</td>\n",
       "      <td>Cocktails, Pizza, Buttermilk</td>\n",
       "      <td>Finger Food</td>\n",
       "      <td>2,500</td>\n",
       "      <td>[('Rated 4.0', 'RATED\\n  Nice and friendly pla...</td>\n",
       "      <td>[]</td>\n",
       "      <td>Pubs and bars</td>\n",
       "      <td>Whitefield</td>\n",
       "    </tr>\n",
       "    <tr>\n",
       "      <th>51716</th>\n",
       "      <td>https://www.zomato.com/bangalore/the-nest-the-...</td>\n",
       "      <td>ITPL Main Road, KIADB Export Promotion Industr...</td>\n",
       "      <td>The Nest - The Den Bengaluru</td>\n",
       "      <td>No</td>\n",
       "      <td>No</td>\n",
       "      <td>3.4 /5</td>\n",
       "      <td>13</td>\n",
       "      <td>+91 8071117272</td>\n",
       "      <td>ITPL Main Road, Whitefield</td>\n",
       "      <td>Bar, Casual Dining</td>\n",
       "      <td>NaN</td>\n",
       "      <td>Finger Food, North Indian, Continental</td>\n",
       "      <td>1,500</td>\n",
       "      <td>[('Rated 5.0', 'RATED\\n  Great ambience , look...</td>\n",
       "      <td>[]</td>\n",
       "      <td>Pubs and bars</td>\n",
       "      <td>Whitefield</td>\n",
       "    </tr>\n",
       "  </tbody>\n",
       "</table>\n",
       "</div>"
      ],
      "text/plain": [
       "                                                     url  \\\n",
       "51712  https://www.zomato.com/bangalore/best-brews-fo...   \n",
       "51713  https://www.zomato.com/bangalore/vinod-bar-and...   \n",
       "51714  https://www.zomato.com/bangalore/plunge-sherat...   \n",
       "51715  https://www.zomato.com/bangalore/chime-sherato...   \n",
       "51716  https://www.zomato.com/bangalore/the-nest-the-...   \n",
       "\n",
       "                                                 address  \\\n",
       "51712  Four Points by Sheraton Bengaluru, 43/3, White...   \n",
       "51713  Number 10, Garudachar Palya, Mahadevapura, Whi...   \n",
       "51714  Sheraton Grand Bengaluru Whitefield Hotel & Co...   \n",
       "51715  Sheraton Grand Bengaluru Whitefield Hotel & Co...   \n",
       "51716  ITPL Main Road, KIADB Export Promotion Industr...   \n",
       "\n",
       "                                                    name online_order  \\\n",
       "51712  Best Brews - Four Points by Sheraton Bengaluru...           No   \n",
       "51713                           Vinod Bar And Restaurant           No   \n",
       "51714  Plunge - Sheraton Grand Bengaluru Whitefield H...           No   \n",
       "51715  Chime - Sheraton Grand Bengaluru Whitefield Ho...           No   \n",
       "51716                       The Nest - The Den Bengaluru           No   \n",
       "\n",
       "      book_table    rate  votes           phone                    location  \\\n",
       "51712         No  3.6 /5     27    080 40301477                  Whitefield   \n",
       "51713         No     NaN      0  +91 8197675843                  Whitefield   \n",
       "51714         No     NaN      0             NaN                  Whitefield   \n",
       "51715        Yes  4.3 /5    236    080 49652769  ITPL Main Road, Whitefield   \n",
       "51716         No  3.4 /5     13  +91 8071117272  ITPL Main Road, Whitefield   \n",
       "\n",
       "                rest_type                    dish_liked  \\\n",
       "51712                 Bar                           NaN   \n",
       "51713                 Bar                           NaN   \n",
       "51714                 Bar                           NaN   \n",
       "51715                 Bar  Cocktails, Pizza, Buttermilk   \n",
       "51716  Bar, Casual Dining                           NaN   \n",
       "\n",
       "                                     cuisines approx_cost(for two people)  \\\n",
       "51712                             Continental                       1,500   \n",
       "51713                             Finger Food                         600   \n",
       "51714                             Finger Food                       2,000   \n",
       "51715                             Finger Food                       2,500   \n",
       "51716  Finger Food, North Indian, Continental                       1,500   \n",
       "\n",
       "                                            reviews_list menu_item  \\\n",
       "51712  [('Rated 5.0', \"RATED\\n  Food and service are ...        []   \n",
       "51713                                                 []        []   \n",
       "51714                                                 []        []   \n",
       "51715  [('Rated 4.0', 'RATED\\n  Nice and friendly pla...        []   \n",
       "51716  [('Rated 5.0', 'RATED\\n  Great ambience , look...        []   \n",
       "\n",
       "      listed_in(type) listed_in(city)  \n",
       "51712   Pubs and bars      Whitefield  \n",
       "51713   Pubs and bars      Whitefield  \n",
       "51714   Pubs and bars      Whitefield  \n",
       "51715   Pubs and bars      Whitefield  \n",
       "51716   Pubs and bars      Whitefield  "
      ]
     },
     "execution_count": 4,
     "metadata": {},
     "output_type": "execute_result"
    }
   ],
   "source": [
    "df.tail()"
   ]
  },
  {
   "cell_type": "code",
   "execution_count": 5,
   "id": "47a2059d",
   "metadata": {
    "execution": {
     "iopub.execute_input": "2024-02-22T13:30:05.945273Z",
     "iopub.status.busy": "2024-02-22T13:30:05.944385Z",
     "iopub.status.idle": "2024-02-22T13:30:05.952520Z",
     "shell.execute_reply": "2024-02-22T13:30:05.951467Z"
    },
    "papermill": {
     "duration": 0.025136,
     "end_time": "2024-02-22T13:30:05.955013",
     "exception": false,
     "start_time": "2024-02-22T13:30:05.929877",
     "status": "completed"
    },
    "tags": []
   },
   "outputs": [
    {
     "data": {
      "text/plain": [
       "Index(['url', 'address', 'name', 'online_order', 'book_table', 'rate', 'votes',\n",
       "       'phone', 'location', 'rest_type', 'dish_liked', 'cuisines',\n",
       "       'approx_cost(for two people)', 'reviews_list', 'menu_item',\n",
       "       'listed_in(type)', 'listed_in(city)'],\n",
       "      dtype='object')"
      ]
     },
     "execution_count": 5,
     "metadata": {},
     "output_type": "execute_result"
    }
   ],
   "source": [
    "df.columns"
   ]
  },
  {
   "cell_type": "code",
   "execution_count": 6,
   "id": "37a33c1b",
   "metadata": {
    "execution": {
     "iopub.execute_input": "2024-02-22T13:30:05.983339Z",
     "iopub.status.busy": "2024-02-22T13:30:05.982523Z",
     "iopub.status.idle": "2024-02-22T13:30:06.063013Z",
     "shell.execute_reply": "2024-02-22T13:30:06.061578Z"
    },
    "papermill": {
     "duration": 0.09749,
     "end_time": "2024-02-22T13:30:06.065692",
     "exception": false,
     "start_time": "2024-02-22T13:30:05.968202",
     "status": "completed"
    },
    "tags": []
   },
   "outputs": [
    {
     "name": "stdout",
     "output_type": "stream",
     "text": [
      "<class 'pandas.core.frame.DataFrame'>\n",
      "RangeIndex: 51717 entries, 0 to 51716\n",
      "Data columns (total 17 columns):\n",
      " #   Column                       Non-Null Count  Dtype \n",
      "---  ------                       --------------  ----- \n",
      " 0   url                          51717 non-null  object\n",
      " 1   address                      51717 non-null  object\n",
      " 2   name                         51717 non-null  object\n",
      " 3   online_order                 51717 non-null  object\n",
      " 4   book_table                   51717 non-null  object\n",
      " 5   rate                         43942 non-null  object\n",
      " 6   votes                        51717 non-null  int64 \n",
      " 7   phone                        50509 non-null  object\n",
      " 8   location                     51696 non-null  object\n",
      " 9   rest_type                    51490 non-null  object\n",
      " 10  dish_liked                   23639 non-null  object\n",
      " 11  cuisines                     51672 non-null  object\n",
      " 12  approx_cost(for two people)  51371 non-null  object\n",
      " 13  reviews_list                 51717 non-null  object\n",
      " 14  menu_item                    51717 non-null  object\n",
      " 15  listed_in(type)              51717 non-null  object\n",
      " 16  listed_in(city)              51717 non-null  object\n",
      "dtypes: int64(1), object(16)\n",
      "memory usage: 6.7+ MB\n"
     ]
    }
   ],
   "source": [
    "df.info()"
   ]
  },
  {
   "cell_type": "code",
   "execution_count": 7,
   "id": "1b31333f",
   "metadata": {
    "execution": {
     "iopub.execute_input": "2024-02-22T13:30:06.094255Z",
     "iopub.status.busy": "2024-02-22T13:30:06.093789Z",
     "iopub.status.idle": "2024-02-22T13:30:06.109000Z",
     "shell.execute_reply": "2024-02-22T13:30:06.107804Z"
    },
    "papermill": {
     "duration": 0.032818,
     "end_time": "2024-02-22T13:30:06.111771",
     "exception": false,
     "start_time": "2024-02-22T13:30:06.078953",
     "status": "completed"
    },
    "tags": []
   },
   "outputs": [],
   "source": [
    "df= df.drop(['url','address','phone','menu_item','dish_liked','reviews_list'], axis=1)"
   ]
  },
  {
   "cell_type": "code",
   "execution_count": 8,
   "id": "e2280329",
   "metadata": {
    "execution": {
     "iopub.execute_input": "2024-02-22T13:30:06.140139Z",
     "iopub.status.busy": "2024-02-22T13:30:06.139680Z",
     "iopub.status.idle": "2024-02-22T13:30:06.156243Z",
     "shell.execute_reply": "2024-02-22T13:30:06.154758Z"
    },
    "papermill": {
     "duration": 0.033966,
     "end_time": "2024-02-22T13:30:06.159082",
     "exception": false,
     "start_time": "2024-02-22T13:30:06.125116",
     "status": "completed"
    },
    "tags": []
   },
   "outputs": [
    {
     "data": {
      "text/html": [
       "<div>\n",
       "<style scoped>\n",
       "    .dataframe tbody tr th:only-of-type {\n",
       "        vertical-align: middle;\n",
       "    }\n",
       "\n",
       "    .dataframe tbody tr th {\n",
       "        vertical-align: top;\n",
       "    }\n",
       "\n",
       "    .dataframe thead th {\n",
       "        text-align: right;\n",
       "    }\n",
       "</style>\n",
       "<table border=\"1\" class=\"dataframe\">\n",
       "  <thead>\n",
       "    <tr style=\"text-align: right;\">\n",
       "      <th></th>\n",
       "      <th>name</th>\n",
       "      <th>online_order</th>\n",
       "      <th>book_table</th>\n",
       "      <th>rate</th>\n",
       "      <th>votes</th>\n",
       "      <th>location</th>\n",
       "      <th>rest_type</th>\n",
       "      <th>cuisines</th>\n",
       "      <th>approx_cost(for two people)</th>\n",
       "      <th>listed_in(type)</th>\n",
       "      <th>listed_in(city)</th>\n",
       "    </tr>\n",
       "  </thead>\n",
       "  <tbody>\n",
       "    <tr>\n",
       "      <th>0</th>\n",
       "      <td>Jalsa</td>\n",
       "      <td>Yes</td>\n",
       "      <td>Yes</td>\n",
       "      <td>4.1/5</td>\n",
       "      <td>775</td>\n",
       "      <td>Banashankari</td>\n",
       "      <td>Casual Dining</td>\n",
       "      <td>North Indian, Mughlai, Chinese</td>\n",
       "      <td>800</td>\n",
       "      <td>Buffet</td>\n",
       "      <td>Banashankari</td>\n",
       "    </tr>\n",
       "    <tr>\n",
       "      <th>1</th>\n",
       "      <td>Spice Elephant</td>\n",
       "      <td>Yes</td>\n",
       "      <td>No</td>\n",
       "      <td>4.1/5</td>\n",
       "      <td>787</td>\n",
       "      <td>Banashankari</td>\n",
       "      <td>Casual Dining</td>\n",
       "      <td>Chinese, North Indian, Thai</td>\n",
       "      <td>800</td>\n",
       "      <td>Buffet</td>\n",
       "      <td>Banashankari</td>\n",
       "    </tr>\n",
       "    <tr>\n",
       "      <th>2</th>\n",
       "      <td>San Churro Cafe</td>\n",
       "      <td>Yes</td>\n",
       "      <td>No</td>\n",
       "      <td>3.8/5</td>\n",
       "      <td>918</td>\n",
       "      <td>Banashankari</td>\n",
       "      <td>Cafe, Casual Dining</td>\n",
       "      <td>Cafe, Mexican, Italian</td>\n",
       "      <td>800</td>\n",
       "      <td>Buffet</td>\n",
       "      <td>Banashankari</td>\n",
       "    </tr>\n",
       "    <tr>\n",
       "      <th>3</th>\n",
       "      <td>Addhuri Udupi Bhojana</td>\n",
       "      <td>No</td>\n",
       "      <td>No</td>\n",
       "      <td>3.7/5</td>\n",
       "      <td>88</td>\n",
       "      <td>Banashankari</td>\n",
       "      <td>Quick Bites</td>\n",
       "      <td>South Indian, North Indian</td>\n",
       "      <td>300</td>\n",
       "      <td>Buffet</td>\n",
       "      <td>Banashankari</td>\n",
       "    </tr>\n",
       "    <tr>\n",
       "      <th>4</th>\n",
       "      <td>Grand Village</td>\n",
       "      <td>No</td>\n",
       "      <td>No</td>\n",
       "      <td>3.8/5</td>\n",
       "      <td>166</td>\n",
       "      <td>Basavanagudi</td>\n",
       "      <td>Casual Dining</td>\n",
       "      <td>North Indian, Rajasthani</td>\n",
       "      <td>600</td>\n",
       "      <td>Buffet</td>\n",
       "      <td>Banashankari</td>\n",
       "    </tr>\n",
       "  </tbody>\n",
       "</table>\n",
       "</div>"
      ],
      "text/plain": [
       "                    name online_order book_table   rate  votes      location  \\\n",
       "0                  Jalsa          Yes        Yes  4.1/5    775  Banashankari   \n",
       "1         Spice Elephant          Yes         No  4.1/5    787  Banashankari   \n",
       "2        San Churro Cafe          Yes         No  3.8/5    918  Banashankari   \n",
       "3  Addhuri Udupi Bhojana           No         No  3.7/5     88  Banashankari   \n",
       "4          Grand Village           No         No  3.8/5    166  Basavanagudi   \n",
       "\n",
       "             rest_type                        cuisines  \\\n",
       "0        Casual Dining  North Indian, Mughlai, Chinese   \n",
       "1        Casual Dining     Chinese, North Indian, Thai   \n",
       "2  Cafe, Casual Dining          Cafe, Mexican, Italian   \n",
       "3          Quick Bites      South Indian, North Indian   \n",
       "4        Casual Dining        North Indian, Rajasthani   \n",
       "\n",
       "  approx_cost(for two people) listed_in(type) listed_in(city)  \n",
       "0                         800          Buffet    Banashankari  \n",
       "1                         800          Buffet    Banashankari  \n",
       "2                         800          Buffet    Banashankari  \n",
       "3                         300          Buffet    Banashankari  \n",
       "4                         600          Buffet    Banashankari  "
      ]
     },
     "execution_count": 8,
     "metadata": {},
     "output_type": "execute_result"
    }
   ],
   "source": [
    "df.head()"
   ]
  },
  {
   "cell_type": "code",
   "execution_count": 9,
   "id": "6a8a5260",
   "metadata": {
    "execution": {
     "iopub.execute_input": "2024-02-22T13:30:06.188533Z",
     "iopub.status.busy": "2024-02-22T13:30:06.188070Z",
     "iopub.status.idle": "2024-02-22T13:30:06.225947Z",
     "shell.execute_reply": "2024-02-22T13:30:06.224382Z"
    },
    "papermill": {
     "duration": 0.055819,
     "end_time": "2024-02-22T13:30:06.228440",
     "exception": false,
     "start_time": "2024-02-22T13:30:06.172621",
     "status": "completed"
    },
    "tags": []
   },
   "outputs": [
    {
     "name": "stdout",
     "output_type": "stream",
     "text": [
      "<class 'pandas.core.frame.DataFrame'>\n",
      "RangeIndex: 51717 entries, 0 to 51716\n",
      "Data columns (total 11 columns):\n",
      " #   Column                       Non-Null Count  Dtype \n",
      "---  ------                       --------------  ----- \n",
      " 0   name                         51717 non-null  object\n",
      " 1   online_order                 51717 non-null  object\n",
      " 2   book_table                   51717 non-null  object\n",
      " 3   rate                         43942 non-null  object\n",
      " 4   votes                        51717 non-null  int64 \n",
      " 5   location                     51696 non-null  object\n",
      " 6   rest_type                    51490 non-null  object\n",
      " 7   cuisines                     51672 non-null  object\n",
      " 8   approx_cost(for two people)  51371 non-null  object\n",
      " 9   listed_in(type)              51717 non-null  object\n",
      " 10  listed_in(city)              51717 non-null  object\n",
      "dtypes: int64(1), object(10)\n",
      "memory usage: 4.3+ MB\n"
     ]
    }
   ],
   "source": [
    "df.info()"
   ]
  },
  {
   "cell_type": "code",
   "execution_count": 10,
   "id": "85217b1a",
   "metadata": {
    "execution": {
     "iopub.execute_input": "2024-02-22T13:30:06.257756Z",
     "iopub.status.busy": "2024-02-22T13:30:06.257280Z",
     "iopub.status.idle": "2024-02-22T13:30:06.261461Z",
     "shell.execute_reply": "2024-02-22T13:30:06.260688Z"
    },
    "papermill": {
     "duration": 0.021208,
     "end_time": "2024-02-22T13:30:06.263361",
     "exception": false,
     "start_time": "2024-02-22T13:30:06.242153",
     "status": "completed"
    },
    "tags": []
   },
   "outputs": [],
   "source": [
    "#Dropping Duplicates"
   ]
  },
  {
   "cell_type": "code",
   "execution_count": 11,
   "id": "ae72050a",
   "metadata": {
    "execution": {
     "iopub.execute_input": "2024-02-22T13:30:06.293262Z",
     "iopub.status.busy": "2024-02-22T13:30:06.292798Z",
     "iopub.status.idle": "2024-02-22T13:30:06.390505Z",
     "shell.execute_reply": "2024-02-22T13:30:06.389087Z"
    },
    "papermill": {
     "duration": 0.115831,
     "end_time": "2024-02-22T13:30:06.393297",
     "exception": false,
     "start_time": "2024-02-22T13:30:06.277466",
     "status": "completed"
    },
    "tags": []
   },
   "outputs": [
    {
     "name": "stdout",
     "output_type": "stream",
     "text": [
      "<class 'pandas.core.frame.DataFrame'>\n",
      "Index: 51609 entries, 0 to 51716\n",
      "Data columns (total 11 columns):\n",
      " #   Column                       Non-Null Count  Dtype \n",
      "---  ------                       --------------  ----- \n",
      " 0   name                         51609 non-null  object\n",
      " 1   online_order                 51609 non-null  object\n",
      " 2   book_table                   51609 non-null  object\n",
      " 3   rate                         43854 non-null  object\n",
      " 4   votes                        51609 non-null  int64 \n",
      " 5   location                     51588 non-null  object\n",
      " 6   rest_type                    51382 non-null  object\n",
      " 7   cuisines                     51564 non-null  object\n",
      " 8   approx_cost(for two people)  51265 non-null  object\n",
      " 9   listed_in(type)              51609 non-null  object\n",
      " 10  listed_in(city)              51609 non-null  object\n",
      "dtypes: int64(1), object(10)\n",
      "memory usage: 4.7+ MB\n"
     ]
    }
   ],
   "source": [
    "df.drop_duplicates(inplace= True)\n",
    "df.info()\n"
   ]
  },
  {
   "cell_type": "code",
   "execution_count": 12,
   "id": "bd1a95e2",
   "metadata": {
    "execution": {
     "iopub.execute_input": "2024-02-22T13:30:06.424083Z",
     "iopub.status.busy": "2024-02-22T13:30:06.423608Z",
     "iopub.status.idle": "2024-02-22T13:30:06.432873Z",
     "shell.execute_reply": "2024-02-22T13:30:06.431601Z"
    },
    "papermill": {
     "duration": 0.027706,
     "end_time": "2024-02-22T13:30:06.435193",
     "exception": false,
     "start_time": "2024-02-22T13:30:06.407487",
     "status": "completed"
    },
    "tags": []
   },
   "outputs": [
    {
     "data": {
      "text/plain": [
       "0    4.1/5\n",
       "1    4.1/5\n",
       "2    3.8/5\n",
       "3    3.7/5\n",
       "4    3.8/5\n",
       "Name: rate, dtype: object"
      ]
     },
     "execution_count": 12,
     "metadata": {},
     "output_type": "execute_result"
    }
   ],
   "source": [
    "df['rate'].head()"
   ]
  },
  {
   "cell_type": "code",
   "execution_count": 13,
   "id": "0d470950",
   "metadata": {
    "execution": {
     "iopub.execute_input": "2024-02-22T13:30:06.465334Z",
     "iopub.status.busy": "2024-02-22T13:30:06.464477Z",
     "iopub.status.idle": "2024-02-22T13:30:06.515244Z",
     "shell.execute_reply": "2024-02-22T13:30:06.514062Z"
    },
    "papermill": {
     "duration": 0.068453,
     "end_time": "2024-02-22T13:30:06.517660",
     "exception": false,
     "start_time": "2024-02-22T13:30:06.449207",
     "status": "completed"
    },
    "tags": []
   },
   "outputs": [
    {
     "data": {
      "text/plain": [
       "rate\n",
       "3.9    3967\n",
       "3.8    3870\n",
       "3.7    3814\n",
       "3.6    3311\n",
       "4.0    3180\n",
       "4.1    2942\n",
       "3.5    2781\n",
       "3.4    2472\n",
       "3.3    2305\n",
       "4.2    2179\n",
       "3.2    1867\n",
       "4.3    1686\n",
       "3.1    1561\n",
       "4.4    1137\n",
       "3.0    1022\n",
       "2.9     801\n",
       "4.5     653\n",
       "2.8     600\n",
       "2.7     307\n",
       "4.6     299\n",
       "2.6     260\n",
       "4.7     167\n",
       "2.5     101\n",
       "2.4      70\n",
       "4.8      66\n",
       "4.9      55\n",
       "2.3      51\n",
       "2.2      26\n",
       "2.1      24\n",
       "2.0      11\n",
       "1.8       5\n",
       "Name: count, dtype: int64"
      ]
     },
     "execution_count": 13,
     "metadata": {},
     "output_type": "execute_result"
    }
   ],
   "source": [
    "#creating a function to romoveother the / and New,- values in rates\n",
    "def handlerate(value):\n",
    "    if(value =='NEW' or value  =='-'):\n",
    "       return np.nan\n",
    "    else:\n",
    "        value=str(value).split('/')\n",
    "        value=value[0]\n",
    "    return float(value)\n",
    "df['rate']=df['rate'].apply(handlerate)\n",
    "df['rate'].value_counts()\n",
    "\n",
    "    \n",
    "    \n"
   ]
  },
  {
   "cell_type": "code",
   "execution_count": 14,
   "id": "b46c8768",
   "metadata": {
    "execution": {
     "iopub.execute_input": "2024-02-22T13:30:06.548167Z",
     "iopub.status.busy": "2024-02-22T13:30:06.547596Z",
     "iopub.status.idle": "2024-02-22T13:30:06.558799Z",
     "shell.execute_reply": "2024-02-22T13:30:06.557461Z"
    },
    "papermill": {
     "duration": 0.029808,
     "end_time": "2024-02-22T13:30:06.561319",
     "exception": false,
     "start_time": "2024-02-22T13:30:06.531511",
     "status": "completed"
    },
    "tags": []
   },
   "outputs": [
    {
     "data": {
      "text/plain": [
       "array([4.1, 3.8, 3.7, 3.6, 4.6, 4. , 4.2, 3.9, 3.1, 3. , 3.2, 3.3, 2.8,\n",
       "       4.4, 4.3, nan, 2.9, 3.5, 2.6, 3.4, 4.5, 2.5, 2.7, 4.7, 2.4, 2.2,\n",
       "       2.3, 4.8, 4.9, 2.1, 2. , 1.8])"
      ]
     },
     "execution_count": 14,
     "metadata": {},
     "output_type": "execute_result"
    }
   ],
   "source": [
    "df['rate'].unique()"
   ]
  },
  {
   "cell_type": "code",
   "execution_count": 15,
   "id": "3e065962",
   "metadata": {
    "execution": {
     "iopub.execute_input": "2024-02-22T13:30:06.591766Z",
     "iopub.status.busy": "2024-02-22T13:30:06.591334Z",
     "iopub.status.idle": "2024-02-22T13:30:06.600428Z",
     "shell.execute_reply": "2024-02-22T13:30:06.599285Z"
    },
    "papermill": {
     "duration": 0.027348,
     "end_time": "2024-02-22T13:30:06.602751",
     "exception": false,
     "start_time": "2024-02-22T13:30:06.575403",
     "status": "completed"
    },
    "tags": []
   },
   "outputs": [
    {
     "data": {
      "text/plain": [
       "0    4.1\n",
       "1    4.1\n",
       "2    3.8\n",
       "3    3.7\n",
       "4    3.8\n",
       "Name: rate, dtype: float64"
      ]
     },
     "execution_count": 15,
     "metadata": {},
     "output_type": "execute_result"
    }
   ],
   "source": [
    "df['rate'].head()"
   ]
  },
  {
   "cell_type": "code",
   "execution_count": 16,
   "id": "6a8d01cc",
   "metadata": {
    "execution": {
     "iopub.execute_input": "2024-02-22T13:30:06.633692Z",
     "iopub.status.busy": "2024-02-22T13:30:06.632441Z",
     "iopub.status.idle": "2024-02-22T13:30:06.641108Z",
     "shell.execute_reply": "2024-02-22T13:30:06.639925Z"
    },
    "papermill": {
     "duration": 0.026798,
     "end_time": "2024-02-22T13:30:06.643674",
     "exception": false,
     "start_time": "2024-02-22T13:30:06.616876",
     "status": "completed"
    },
    "tags": []
   },
   "outputs": [
    {
     "data": {
      "text/plain": [
       "10019"
      ]
     },
     "execution_count": 16,
     "metadata": {},
     "output_type": "execute_result"
    }
   ],
   "source": [
    "# To find how many null values\n",
    "df.rate.isnull().sum()"
   ]
  },
  {
   "cell_type": "code",
   "execution_count": 17,
   "id": "f3d016f3",
   "metadata": {
    "execution": {
     "iopub.execute_input": "2024-02-22T13:30:06.675415Z",
     "iopub.status.busy": "2024-02-22T13:30:06.674465Z",
     "iopub.status.idle": "2024-02-22T13:30:06.684731Z",
     "shell.execute_reply": "2024-02-22T13:30:06.683726Z"
    },
    "papermill": {
     "duration": 0.028863,
     "end_time": "2024-02-22T13:30:06.686917",
     "exception": false,
     "start_time": "2024-02-22T13:30:06.658054",
     "status": "completed"
    },
    "tags": []
   },
   "outputs": [
    {
     "data": {
      "text/plain": [
       "0"
      ]
     },
     "execution_count": 17,
     "metadata": {},
     "output_type": "execute_result"
    }
   ],
   "source": [
    "# fillna is used to replace the value with specified value as mean of all values\n",
    "df['rate']=df['rate'].fillna(df['rate'].mean())\n",
    "df.rate.isnull().sum()"
   ]
  },
  {
   "cell_type": "code",
   "execution_count": 18,
   "id": "23b82b37",
   "metadata": {
    "execution": {
     "iopub.execute_input": "2024-02-22T13:30:06.718021Z",
     "iopub.status.busy": "2024-02-22T13:30:06.717508Z",
     "iopub.status.idle": "2024-02-22T13:30:06.752891Z",
     "shell.execute_reply": "2024-02-22T13:30:06.751550Z"
    },
    "papermill": {
     "duration": 0.054546,
     "end_time": "2024-02-22T13:30:06.755930",
     "exception": false,
     "start_time": "2024-02-22T13:30:06.701384",
     "status": "completed"
    },
    "tags": []
   },
   "outputs": [
    {
     "name": "stdout",
     "output_type": "stream",
     "text": [
      "<class 'pandas.core.frame.DataFrame'>\n",
      "Index: 51609 entries, 0 to 51716\n",
      "Data columns (total 11 columns):\n",
      " #   Column                       Non-Null Count  Dtype  \n",
      "---  ------                       --------------  -----  \n",
      " 0   name                         51609 non-null  object \n",
      " 1   online_order                 51609 non-null  object \n",
      " 2   book_table                   51609 non-null  object \n",
      " 3   rate                         51609 non-null  float64\n",
      " 4   votes                        51609 non-null  int64  \n",
      " 5   location                     51588 non-null  object \n",
      " 6   rest_type                    51382 non-null  object \n",
      " 7   cuisines                     51564 non-null  object \n",
      " 8   approx_cost(for two people)  51265 non-null  object \n",
      " 9   listed_in(type)              51609 non-null  object \n",
      " 10  listed_in(city)              51609 non-null  object \n",
      "dtypes: float64(1), int64(1), object(9)\n",
      "memory usage: 4.7+ MB\n"
     ]
    }
   ],
   "source": [
    "df.info()"
   ]
  },
  {
   "cell_type": "code",
   "execution_count": 19,
   "id": "753f34b0",
   "metadata": {
    "execution": {
     "iopub.execute_input": "2024-02-22T13:30:06.786990Z",
     "iopub.status.busy": "2024-02-22T13:30:06.786450Z",
     "iopub.status.idle": "2024-02-22T13:30:06.835137Z",
     "shell.execute_reply": "2024-02-22T13:30:06.833836Z"
    },
    "papermill": {
     "duration": 0.067261,
     "end_time": "2024-02-22T13:30:06.837657",
     "exception": false,
     "start_time": "2024-02-22T13:30:06.770396",
     "status": "completed"
    },
    "tags": []
   },
   "outputs": [
    {
     "data": {
      "text/plain": [
       "name                   online_order  book_table  rate  votes  location      rest_type            cuisines                        approx_cost(for two people)  listed_in(type)  listed_in(city)\n",
       "Addhuri Udupi Bhojana  No            No          3.7   88     Banashankari  Quick Bites          South Indian, North Indian      300                          Buffet           Banashankari       1\n",
       "Grand Village          No            No          3.8   166    Basavanagudi  Casual Dining        North Indian, Rajasthani        600                          Buffet           Banashankari       1\n",
       "Jalsa                  Yes           Yes         4.1   775    Banashankari  Casual Dining        North Indian, Mughlai, Chinese  800                          Buffet           Banashankari       1\n",
       "San Churro Cafe        Yes           No          3.8   918    Banashankari  Cafe, Casual Dining  Cafe, Mexican, Italian          800                          Buffet           Banashankari       1\n",
       "Spice Elephant         Yes           No          4.1   787    Banashankari  Casual Dining        Chinese, North Indian, Thai     800                          Buffet           Banashankari       1\n",
       "Name: count, dtype: int64"
      ]
     },
     "execution_count": 19,
     "metadata": {},
     "output_type": "execute_result"
    }
   ],
   "source": [
    "# removing the rows that containg Null values\n",
    "df.dropna(inplace = True)\n",
    "df.head().value_counts()"
   ]
  },
  {
   "cell_type": "code",
   "execution_count": 20,
   "id": "d6687fee",
   "metadata": {
    "execution": {
     "iopub.execute_input": "2024-02-22T13:30:06.872113Z",
     "iopub.status.busy": "2024-02-22T13:30:06.871239Z",
     "iopub.status.idle": "2024-02-22T13:30:06.888115Z",
     "shell.execute_reply": "2024-02-22T13:30:06.887299Z"
    },
    "papermill": {
     "duration": 0.036917,
     "end_time": "2024-02-22T13:30:06.890540",
     "exception": false,
     "start_time": "2024-02-22T13:30:06.853623",
     "status": "completed"
    },
    "tags": []
   },
   "outputs": [
    {
     "data": {
      "text/html": [
       "<div>\n",
       "<style scoped>\n",
       "    .dataframe tbody tr th:only-of-type {\n",
       "        vertical-align: middle;\n",
       "    }\n",
       "\n",
       "    .dataframe tbody tr th {\n",
       "        vertical-align: top;\n",
       "    }\n",
       "\n",
       "    .dataframe thead th {\n",
       "        text-align: right;\n",
       "    }\n",
       "</style>\n",
       "<table border=\"1\" class=\"dataframe\">\n",
       "  <thead>\n",
       "    <tr style=\"text-align: right;\">\n",
       "      <th></th>\n",
       "      <th>name</th>\n",
       "      <th>online_order</th>\n",
       "      <th>book_table</th>\n",
       "      <th>rate</th>\n",
       "      <th>votes</th>\n",
       "      <th>location</th>\n",
       "      <th>rest_type</th>\n",
       "      <th>cuisines</th>\n",
       "      <th>cstf2ppl</th>\n",
       "      <th>Type</th>\n",
       "      <th>lstin_cty</th>\n",
       "    </tr>\n",
       "  </thead>\n",
       "  <tbody>\n",
       "    <tr>\n",
       "      <th>0</th>\n",
       "      <td>Jalsa</td>\n",
       "      <td>Yes</td>\n",
       "      <td>Yes</td>\n",
       "      <td>4.1</td>\n",
       "      <td>775</td>\n",
       "      <td>Banashankari</td>\n",
       "      <td>Casual Dining</td>\n",
       "      <td>North Indian, Mughlai, Chinese</td>\n",
       "      <td>800</td>\n",
       "      <td>Buffet</td>\n",
       "      <td>Banashankari</td>\n",
       "    </tr>\n",
       "    <tr>\n",
       "      <th>1</th>\n",
       "      <td>Spice Elephant</td>\n",
       "      <td>Yes</td>\n",
       "      <td>No</td>\n",
       "      <td>4.1</td>\n",
       "      <td>787</td>\n",
       "      <td>Banashankari</td>\n",
       "      <td>Casual Dining</td>\n",
       "      <td>Chinese, North Indian, Thai</td>\n",
       "      <td>800</td>\n",
       "      <td>Buffet</td>\n",
       "      <td>Banashankari</td>\n",
       "    </tr>\n",
       "    <tr>\n",
       "      <th>2</th>\n",
       "      <td>San Churro Cafe</td>\n",
       "      <td>Yes</td>\n",
       "      <td>No</td>\n",
       "      <td>3.8</td>\n",
       "      <td>918</td>\n",
       "      <td>Banashankari</td>\n",
       "      <td>Cafe, Casual Dining</td>\n",
       "      <td>Cafe, Mexican, Italian</td>\n",
       "      <td>800</td>\n",
       "      <td>Buffet</td>\n",
       "      <td>Banashankari</td>\n",
       "    </tr>\n",
       "    <tr>\n",
       "      <th>3</th>\n",
       "      <td>Addhuri Udupi Bhojana</td>\n",
       "      <td>No</td>\n",
       "      <td>No</td>\n",
       "      <td>3.7</td>\n",
       "      <td>88</td>\n",
       "      <td>Banashankari</td>\n",
       "      <td>Quick Bites</td>\n",
       "      <td>South Indian, North Indian</td>\n",
       "      <td>300</td>\n",
       "      <td>Buffet</td>\n",
       "      <td>Banashankari</td>\n",
       "    </tr>\n",
       "    <tr>\n",
       "      <th>4</th>\n",
       "      <td>Grand Village</td>\n",
       "      <td>No</td>\n",
       "      <td>No</td>\n",
       "      <td>3.8</td>\n",
       "      <td>166</td>\n",
       "      <td>Basavanagudi</td>\n",
       "      <td>Casual Dining</td>\n",
       "      <td>North Indian, Rajasthani</td>\n",
       "      <td>600</td>\n",
       "      <td>Buffet</td>\n",
       "      <td>Banashankari</td>\n",
       "    </tr>\n",
       "  </tbody>\n",
       "</table>\n",
       "</div>"
      ],
      "text/plain": [
       "                    name online_order book_table  rate  votes      location  \\\n",
       "0                  Jalsa          Yes        Yes   4.1    775  Banashankari   \n",
       "1         Spice Elephant          Yes         No   4.1    787  Banashankari   \n",
       "2        San Churro Cafe          Yes         No   3.8    918  Banashankari   \n",
       "3  Addhuri Udupi Bhojana           No         No   3.7     88  Banashankari   \n",
       "4          Grand Village           No         No   3.8    166  Basavanagudi   \n",
       "\n",
       "             rest_type                        cuisines cstf2ppl    Type  \\\n",
       "0        Casual Dining  North Indian, Mughlai, Chinese      800  Buffet   \n",
       "1        Casual Dining     Chinese, North Indian, Thai      800  Buffet   \n",
       "2  Cafe, Casual Dining          Cafe, Mexican, Italian      800  Buffet   \n",
       "3          Quick Bites      South Indian, North Indian      300  Buffet   \n",
       "4        Casual Dining        North Indian, Rajasthani      600  Buffet   \n",
       "\n",
       "      lstin_cty  \n",
       "0  Banashankari  \n",
       "1  Banashankari  \n",
       "2  Banashankari  \n",
       "3  Banashankari  \n",
       "4  Banashankari  "
      ]
     },
     "execution_count": 20,
     "metadata": {},
     "output_type": "execute_result"
    }
   ],
   "source": [
    "# Changing columns names which are big\n",
    "df.rename(columns={'approx_cost(for two people)':'cstf2ppl','listed_in(type)':'Type','listed_in(city)':'lstin_cty'}, inplace = True)\n",
    "df.head()"
   ]
  },
  {
   "cell_type": "code",
   "execution_count": 21,
   "id": "0b5bd47d",
   "metadata": {
    "execution": {
     "iopub.execute_input": "2024-02-22T13:30:07.011968Z",
     "iopub.status.busy": "2024-02-22T13:30:07.011464Z",
     "iopub.status.idle": "2024-02-22T13:30:07.023953Z",
     "shell.execute_reply": "2024-02-22T13:30:07.022597Z"
    },
    "papermill": {
     "duration": 0.120707,
     "end_time": "2024-02-22T13:30:07.026620",
     "exception": false,
     "start_time": "2024-02-22T13:30:06.905913",
     "status": "completed"
    },
    "tags": []
   },
   "outputs": [
    {
     "data": {
      "text/plain": [
       "array(['Banashankari', 'Basavanagudi', 'Mysore Road', 'Jayanagar',\n",
       "       'Kumaraswamy Layout', 'Rajarajeshwari Nagar', 'Vijay Nagar',\n",
       "       'Uttarahalli', 'JP Nagar', 'South Bangalore', 'City Market',\n",
       "       'Nagarbhavi', 'Bannerghatta Road', 'BTM', 'Kanakapura Road',\n",
       "       'Bommanahalli', 'CV Raman Nagar', 'Electronic City', 'HSR',\n",
       "       'Marathahalli', 'Wilson Garden', 'Shanti Nagar',\n",
       "       'Koramangala 5th Block', 'Koramangala 8th Block', 'Richmond Road',\n",
       "       'Koramangala 7th Block', 'Jalahalli', 'Koramangala 4th Block',\n",
       "       'Bellandur', 'Sarjapur Road', 'Whitefield', 'East Bangalore',\n",
       "       'Old Airport Road', 'Indiranagar', 'Koramangala 1st Block',\n",
       "       'Frazer Town', 'RT Nagar', 'MG Road', 'Brigade Road',\n",
       "       'Lavelle Road', 'Church Street', 'Ulsoor', 'Residency Road',\n",
       "       'Shivajinagar', 'Infantry Road', 'St. Marks Road',\n",
       "       'Cunningham Road', 'Race Course Road', 'Commercial Street',\n",
       "       'Vasanth Nagar', 'HBR Layout', 'Domlur', 'Ejipura',\n",
       "       'Jeevan Bhima Nagar', 'Old Madras Road', 'Malleshwaram',\n",
       "       'Seshadripuram', 'Kammanahalli', 'Koramangala 6th Block',\n",
       "       'Majestic', 'Langford Town', 'Central Bangalore', 'Sanjay Nagar',\n",
       "       'Brookefield', 'ITPL Main Road, Whitefield',\n",
       "       'Varthur Main Road, Whitefield', 'KR Puram',\n",
       "       'Koramangala 2nd Block', 'Koramangala 3rd Block', 'Koramangala',\n",
       "       'Hosur Road', 'Rajajinagar', 'Banaswadi', 'North Bangalore',\n",
       "       'Nagawara', 'Hennur', 'Kalyan Nagar', 'New BEL Road', 'Jakkur',\n",
       "       'Rammurthy Nagar', 'Thippasandra', 'Kaggadasapura', 'Hebbal',\n",
       "       'Kengeri', 'Sankey Road', 'Sadashiv Nagar', 'Basaveshwara Nagar',\n",
       "       'Yeshwantpur', 'West Bangalore', 'Magadi Road', 'Yelahanka',\n",
       "       'Sahakara Nagar', 'Peenya'], dtype=object)"
      ]
     },
     "execution_count": 21,
     "metadata": {},
     "output_type": "execute_result"
    }
   ],
   "source": [
    "df['location'].unique()"
   ]
  },
  {
   "cell_type": "code",
   "execution_count": 22,
   "id": "d3d3e80a",
   "metadata": {
    "execution": {
     "iopub.execute_input": "2024-02-22T13:30:07.060189Z",
     "iopub.status.busy": "2024-02-22T13:30:07.059683Z",
     "iopub.status.idle": "2024-02-22T13:30:07.072808Z",
     "shell.execute_reply": "2024-02-22T13:30:07.071673Z"
    },
    "papermill": {
     "duration": 0.033042,
     "end_time": "2024-02-22T13:30:07.075623",
     "exception": false,
     "start_time": "2024-02-22T13:30:07.042581",
     "status": "completed"
    },
    "tags": []
   },
   "outputs": [],
   "source": [
    "# Here both Location and lisin_city are same related to location lets keep any one of them by dropping other axis is used to specify that we are droping a column\n",
    "\n",
    "df = df.drop(['lstin_cty'],axis=1)"
   ]
  },
  {
   "cell_type": "code",
   "execution_count": 23,
   "id": "b2548855",
   "metadata": {
    "execution": {
     "iopub.execute_input": "2024-02-22T13:30:07.108601Z",
     "iopub.status.busy": "2024-02-22T13:30:07.108181Z",
     "iopub.status.idle": "2024-02-22T13:30:07.124830Z",
     "shell.execute_reply": "2024-02-22T13:30:07.123613Z"
    },
    "papermill": {
     "duration": 0.036109,
     "end_time": "2024-02-22T13:30:07.127291",
     "exception": false,
     "start_time": "2024-02-22T13:30:07.091182",
     "status": "completed"
    },
    "tags": []
   },
   "outputs": [
    {
     "data": {
      "text/html": [
       "<div>\n",
       "<style scoped>\n",
       "    .dataframe tbody tr th:only-of-type {\n",
       "        vertical-align: middle;\n",
       "    }\n",
       "\n",
       "    .dataframe tbody tr th {\n",
       "        vertical-align: top;\n",
       "    }\n",
       "\n",
       "    .dataframe thead th {\n",
       "        text-align: right;\n",
       "    }\n",
       "</style>\n",
       "<table border=\"1\" class=\"dataframe\">\n",
       "  <thead>\n",
       "    <tr style=\"text-align: right;\">\n",
       "      <th></th>\n",
       "      <th>name</th>\n",
       "      <th>online_order</th>\n",
       "      <th>book_table</th>\n",
       "      <th>rate</th>\n",
       "      <th>votes</th>\n",
       "      <th>location</th>\n",
       "      <th>rest_type</th>\n",
       "      <th>cuisines</th>\n",
       "      <th>cstf2ppl</th>\n",
       "      <th>Type</th>\n",
       "    </tr>\n",
       "  </thead>\n",
       "  <tbody>\n",
       "    <tr>\n",
       "      <th>0</th>\n",
       "      <td>Jalsa</td>\n",
       "      <td>Yes</td>\n",
       "      <td>Yes</td>\n",
       "      <td>4.1</td>\n",
       "      <td>775</td>\n",
       "      <td>Banashankari</td>\n",
       "      <td>Casual Dining</td>\n",
       "      <td>North Indian, Mughlai, Chinese</td>\n",
       "      <td>800</td>\n",
       "      <td>Buffet</td>\n",
       "    </tr>\n",
       "    <tr>\n",
       "      <th>1</th>\n",
       "      <td>Spice Elephant</td>\n",
       "      <td>Yes</td>\n",
       "      <td>No</td>\n",
       "      <td>4.1</td>\n",
       "      <td>787</td>\n",
       "      <td>Banashankari</td>\n",
       "      <td>Casual Dining</td>\n",
       "      <td>Chinese, North Indian, Thai</td>\n",
       "      <td>800</td>\n",
       "      <td>Buffet</td>\n",
       "    </tr>\n",
       "    <tr>\n",
       "      <th>2</th>\n",
       "      <td>San Churro Cafe</td>\n",
       "      <td>Yes</td>\n",
       "      <td>No</td>\n",
       "      <td>3.8</td>\n",
       "      <td>918</td>\n",
       "      <td>Banashankari</td>\n",
       "      <td>Cafe, Casual Dining</td>\n",
       "      <td>Cafe, Mexican, Italian</td>\n",
       "      <td>800</td>\n",
       "      <td>Buffet</td>\n",
       "    </tr>\n",
       "    <tr>\n",
       "      <th>3</th>\n",
       "      <td>Addhuri Udupi Bhojana</td>\n",
       "      <td>No</td>\n",
       "      <td>No</td>\n",
       "      <td>3.7</td>\n",
       "      <td>88</td>\n",
       "      <td>Banashankari</td>\n",
       "      <td>Quick Bites</td>\n",
       "      <td>South Indian, North Indian</td>\n",
       "      <td>300</td>\n",
       "      <td>Buffet</td>\n",
       "    </tr>\n",
       "    <tr>\n",
       "      <th>4</th>\n",
       "      <td>Grand Village</td>\n",
       "      <td>No</td>\n",
       "      <td>No</td>\n",
       "      <td>3.8</td>\n",
       "      <td>166</td>\n",
       "      <td>Basavanagudi</td>\n",
       "      <td>Casual Dining</td>\n",
       "      <td>North Indian, Rajasthani</td>\n",
       "      <td>600</td>\n",
       "      <td>Buffet</td>\n",
       "    </tr>\n",
       "  </tbody>\n",
       "</table>\n",
       "</div>"
      ],
      "text/plain": [
       "                    name online_order book_table  rate  votes      location  \\\n",
       "0                  Jalsa          Yes        Yes   4.1    775  Banashankari   \n",
       "1         Spice Elephant          Yes         No   4.1    787  Banashankari   \n",
       "2        San Churro Cafe          Yes         No   3.8    918  Banashankari   \n",
       "3  Addhuri Udupi Bhojana           No         No   3.7     88  Banashankari   \n",
       "4          Grand Village           No         No   3.8    166  Basavanagudi   \n",
       "\n",
       "             rest_type                        cuisines cstf2ppl    Type  \n",
       "0        Casual Dining  North Indian, Mughlai, Chinese      800  Buffet  \n",
       "1        Casual Dining     Chinese, North Indian, Thai      800  Buffet  \n",
       "2  Cafe, Casual Dining          Cafe, Mexican, Italian      800  Buffet  \n",
       "3          Quick Bites      South Indian, North Indian      300  Buffet  \n",
       "4        Casual Dining        North Indian, Rajasthani      600  Buffet  "
      ]
     },
     "execution_count": 23,
     "metadata": {},
     "output_type": "execute_result"
    }
   ],
   "source": [
    "df.head()"
   ]
  },
  {
   "cell_type": "code",
   "execution_count": 24,
   "id": "e44fa1a0",
   "metadata": {
    "execution": {
     "iopub.execute_input": "2024-02-22T13:30:07.160489Z",
     "iopub.status.busy": "2024-02-22T13:30:07.160035Z",
     "iopub.status.idle": "2024-02-22T13:30:07.170930Z",
     "shell.execute_reply": "2024-02-22T13:30:07.169856Z"
    },
    "papermill": {
     "duration": 0.030389,
     "end_time": "2024-02-22T13:30:07.173195",
     "exception": false,
     "start_time": "2024-02-22T13:30:07.142806",
     "status": "completed"
    },
    "tags": []
   },
   "outputs": [
    {
     "data": {
      "text/plain": [
       "array(['800', '300', '600', '700', '550', '500', '450', '650', '400',\n",
       "       '900', '200', '750', '150', '850', '100', '1,200', '350', '250',\n",
       "       '950', '1,000', '1,500', '1,300', '199', '80', '1,100', '160',\n",
       "       '1,600', '230', '130', '50', '190', '1,700', '1,400', '180',\n",
       "       '1,350', '2,200', '2,000', '1,800', '1,900', '330', '2,500',\n",
       "       '2,100', '3,000', '2,800', '3,400', '40', '1,250', '3,500',\n",
       "       '4,000', '2,400', '2,600', '120', '1,450', '469', '70', '3,200',\n",
       "       '60', '560', '240', '360', '6,000', '1,050', '2,300', '4,100',\n",
       "       '5,000', '3,700', '1,650', '2,700', '4,500', '140'], dtype=object)"
      ]
     },
     "execution_count": 24,
     "metadata": {},
     "output_type": "execute_result"
    }
   ],
   "source": [
    "df['cstf2ppl'].unique()"
   ]
  },
  {
   "cell_type": "code",
   "execution_count": 25,
   "id": "98d76022",
   "metadata": {
    "execution": {
     "iopub.execute_input": "2024-02-22T13:30:07.207068Z",
     "iopub.status.busy": "2024-02-22T13:30:07.206649Z",
     "iopub.status.idle": "2024-02-22T13:30:07.241011Z",
     "shell.execute_reply": "2024-02-22T13:30:07.239950Z"
    },
    "papermill": {
     "duration": 0.05425,
     "end_time": "2024-02-22T13:30:07.243451",
     "exception": false,
     "start_time": "2024-02-22T13:30:07.189201",
     "status": "completed"
    },
    "tags": []
   },
   "outputs": [
    {
     "data": {
      "text/plain": [
       "array([ 800.,  300.,  600.,  700.,  550.,  500.,  450.,  650.,  400.,\n",
       "        900.,  200.,  750.,  150.,  850.,  100., 1200.,  350.,  250.,\n",
       "        950., 1000., 1500., 1300.,  199.,   80., 1100.,  160., 1600.,\n",
       "        230.,  130.,   50.,  190., 1700., 1400.,  180., 1350., 2200.,\n",
       "       2000., 1800., 1900.,  330., 2500., 2100., 3000., 2800., 3400.,\n",
       "         40., 1250., 3500., 4000., 2400., 2600.,  120., 1450.,  469.,\n",
       "         70., 3200.,   60.,  560.,  240.,  360., 6000., 1050., 2300.,\n",
       "       4100., 5000., 3700., 1650., 2700., 4500.,  140.])"
      ]
     },
     "execution_count": 25,
     "metadata": {},
     "output_type": "execute_result"
    }
   ],
   "source": [
    "# here it is a cost it should have only  int or float it should not be string some values are having , in middle it restrict from int sp remove , from them\n",
    "def handlecomma(value):\n",
    "    value = str(value)\n",
    "    if ',' in value:\n",
    "        value = value.replace(',', '')\n",
    "        return float(value)\n",
    "    else :\n",
    "        return float(value)\n",
    "df['cstf2ppl']=df['cstf2ppl'].apply(handlecomma)\n",
    "df['cstf2ppl'].unique()"
   ]
  },
  {
   "cell_type": "code",
   "execution_count": 26,
   "id": "a550861c",
   "metadata": {
    "execution": {
     "iopub.execute_input": "2024-02-22T13:30:07.278035Z",
     "iopub.status.busy": "2024-02-22T13:30:07.276931Z",
     "iopub.status.idle": "2024-02-22T13:30:07.284836Z",
     "shell.execute_reply": "2024-02-22T13:30:07.283137Z"
    },
    "papermill": {
     "duration": 0.027642,
     "end_time": "2024-02-22T13:30:07.287143",
     "exception": true,
     "start_time": "2024-02-22T13:30:07.259501",
     "status": "failed"
    },
    "tags": []
   },
   "outputs": [
    {
     "ename": "SyntaxError",
     "evalue": "invalid syntax (4147257325.py, line 1)",
     "output_type": "error",
     "traceback": [
      "\u001b[0;36m  Cell \u001b[0;32mIn[26], line 1\u001b[0;36m\u001b[0m\n\u001b[0;31m    Cleaning rest type values\u001b[0m\n\u001b[0m             ^\u001b[0m\n\u001b[0;31mSyntaxError\u001b[0m\u001b[0;31m:\u001b[0m invalid syntax\n"
     ]
    }
   ],
   "source": [
    "Cleaning rest type values"
   ]
  },
  {
   "cell_type": "code",
   "execution_count": null,
   "id": "709d13c8",
   "metadata": {
    "execution": {
     "iopub.status.busy": "2024-02-22T13:21:34.845593Z",
     "iopub.status.idle": "2024-02-22T13:21:34.845983Z",
     "shell.execute_reply": "2024-02-22T13:21:34.845812Z",
     "shell.execute_reply.started": "2024-02-22T13:21:34.845797Z"
    },
    "papermill": {
     "duration": null,
     "end_time": null,
     "exception": null,
     "start_time": null,
     "status": "pending"
    },
    "tags": []
   },
   "outputs": [],
   "source": [
    "#unique values\n",
    "df['rest_type'].value_counts()"
   ]
  },
  {
   "cell_type": "code",
   "execution_count": null,
   "id": "061ed285",
   "metadata": {
    "execution": {
     "iopub.status.busy": "2024-02-22T13:21:34.847902Z",
     "iopub.status.idle": "2024-02-22T13:21:34.848305Z",
     "shell.execute_reply": "2024-02-22T13:21:34.848133Z",
     "shell.execute_reply.started": "2024-02-22T13:21:34.848118Z"
    },
    "papermill": {
     "duration": null,
     "end_time": null,
     "exception": null,
     "start_time": null,
     "status": "pending"
    },
    "tags": []
   },
   "outputs": [],
   "source": [
    "#Storing all these unique values in rest_types variable\n",
    "\n",
    "rest_types=df['rest_type'].value_counts(ascending = False)\n",
    "rest_types"
   ]
  },
  {
   "cell_type": "code",
   "execution_count": null,
   "id": "3cd78b0c",
   "metadata": {
    "execution": {
     "iopub.status.busy": "2024-02-22T13:21:34.849841Z",
     "iopub.status.idle": "2024-02-22T13:21:34.850553Z",
     "shell.execute_reply": "2024-02-22T13:21:34.850295Z",
     "shell.execute_reply.started": "2024-02-22T13:21:34.850267Z"
    },
    "papermill": {
     "duration": null,
     "end_time": null,
     "exception": null,
     "start_time": null,
     "status": "pending"
    },
    "tags": []
   },
   "outputs": [],
   "source": [
    "rsttyp_lsthan1000=rest_types[rest_types<1000]\n",
    "rsttyp_lsthan1000"
   ]
  },
  {
   "cell_type": "code",
   "execution_count": null,
   "id": "d4fb710d",
   "metadata": {
    "execution": {
     "iopub.status.busy": "2024-02-22T13:21:34.851818Z",
     "iopub.status.idle": "2024-02-22T13:21:34.852203Z",
     "shell.execute_reply": "2024-02-22T13:21:34.852044Z",
     "shell.execute_reply.started": "2024-02-22T13:21:34.852027Z"
    },
    "papermill": {
     "duration": null,
     "end_time": null,
     "exception": null,
     "start_time": null,
     "status": "pending"
    },
    "tags": []
   },
   "outputs": [],
   "source": [
    "df['rest_type'].info()"
   ]
  },
  {
   "cell_type": "code",
   "execution_count": null,
   "id": "7d6685ef",
   "metadata": {
    "execution": {
     "iopub.status.busy": "2024-02-22T13:21:34.853520Z",
     "iopub.status.idle": "2024-02-22T13:21:34.853916Z",
     "shell.execute_reply": "2024-02-22T13:21:34.853760Z",
     "shell.execute_reply.started": "2024-02-22T13:21:34.853745Z"
    },
    "papermill": {
     "duration": null,
     "end_time": null,
     "exception": null,
     "start_time": null,
     "status": "pending"
    },
    "tags": []
   },
   "outputs": [],
   "source": [
    "#Making this below 1000 restuarents into cluster as others\n",
    "def handle_rest_type(value):\n",
    "     if(value in rsttyp_lsthan1000 ):\n",
    "        return 'others'\n",
    "     else:\n",
    "        return value\n",
    "    \n",
    "df['rest_type']= df['rest_type'].apply(handle_rest_type)\n",
    "df['rest_type'].value_counts()"
   ]
  },
  {
   "cell_type": "code",
   "execution_count": null,
   "id": "cd77a8cb",
   "metadata": {
    "execution": {
     "iopub.status.busy": "2024-02-22T13:21:34.854833Z",
     "iopub.status.idle": "2024-02-22T13:21:34.855196Z",
     "shell.execute_reply": "2024-02-22T13:21:34.855038Z",
     "shell.execute_reply.started": "2024-02-22T13:21:34.855023Z"
    },
    "papermill": {
     "duration": null,
     "end_time": null,
     "exception": null,
     "start_time": null,
     "status": "pending"
    },
    "tags": []
   },
   "outputs": [],
   "source": [
    "Cleaning Location column"
   ]
  },
  {
   "cell_type": "code",
   "execution_count": null,
   "id": "e06eb95c",
   "metadata": {
    "execution": {
     "iopub.status.busy": "2024-02-22T13:21:34.857274Z",
     "iopub.status.idle": "2024-02-22T13:21:34.857714Z",
     "shell.execute_reply": "2024-02-22T13:21:34.857527Z",
     "shell.execute_reply.started": "2024-02-22T13:21:34.857511Z"
    },
    "papermill": {
     "duration": null,
     "end_time": null,
     "exception": null,
     "start_time": null,
     "status": "pending"
    },
    "tags": []
   },
   "outputs": [],
   "source": [
    "df['location'].value_counts()"
   ]
  },
  {
   "cell_type": "code",
   "execution_count": null,
   "id": "2a0b54ae",
   "metadata": {
    "execution": {
     "iopub.status.busy": "2024-02-22T13:21:34.859167Z",
     "iopub.status.idle": "2024-02-22T13:21:34.859591Z",
     "shell.execute_reply": "2024-02-22T13:21:34.859421Z",
     "shell.execute_reply.started": "2024-02-22T13:21:34.859385Z"
    },
    "papermill": {
     "duration": null,
     "end_time": null,
     "exception": null,
     "start_time": null,
     "status": "pending"
    },
    "tags": []
   },
   "outputs": [],
   "source": [
    "location =df['location'].value_counts(ascending = False)\n",
    "\n",
    "location_lessthan300=location[location<300]\n",
    " \n",
    "def handle_location(value):\n",
    "    if(value in location_lessthan300):\n",
    "        return 'others'\n",
    "    else:\n",
    "        return value\n",
    "df['location']=df['location'].apply(handle_location)\n",
    "    \n",
    "df['location'].value_counts()\n",
    "            \n",
    "        \n",
    "    "
   ]
  },
  {
   "cell_type": "code",
   "execution_count": null,
   "id": "c8b0016b",
   "metadata": {
    "execution": {
     "iopub.status.busy": "2024-02-22T13:21:34.860809Z",
     "iopub.status.idle": "2024-02-22T13:21:34.861660Z",
     "shell.execute_reply": "2024-02-22T13:21:34.861460Z",
     "shell.execute_reply.started": "2024-02-22T13:21:34.861441Z"
    },
    "papermill": {
     "duration": null,
     "end_time": null,
     "exception": null,
     "start_time": null,
     "status": "pending"
    },
    "tags": []
   },
   "outputs": [],
   "source": [
    "Cleaning cuisines"
   ]
  },
  {
   "cell_type": "code",
   "execution_count": null,
   "id": "7cf8fa7b",
   "metadata": {
    "execution": {
     "iopub.status.busy": "2024-02-22T13:21:34.865426Z",
     "iopub.status.idle": "2024-02-22T13:21:34.865962Z",
     "shell.execute_reply": "2024-02-22T13:21:34.865725Z",
     "shell.execute_reply.started": "2024-02-22T13:21:34.865708Z"
    },
    "papermill": {
     "duration": null,
     "end_time": null,
     "exception": null,
     "start_time": null,
     "status": "pending"
    },
    "tags": []
   },
   "outputs": [],
   "source": [
    "df.head()"
   ]
  },
  {
   "cell_type": "code",
   "execution_count": null,
   "id": "7b03f05a",
   "metadata": {
    "execution": {
     "iopub.status.busy": "2024-02-22T13:21:34.868082Z",
     "iopub.status.idle": "2024-02-22T13:21:34.868559Z",
     "shell.execute_reply": "2024-02-22T13:21:34.868353Z",
     "shell.execute_reply.started": "2024-02-22T13:21:34.868337Z"
    },
    "papermill": {
     "duration": null,
     "end_time": null,
     "exception": null,
     "start_time": null,
     "status": "pending"
    },
    "tags": []
   },
   "outputs": [],
   "source": [
    "cuisines=df['cuisines'].value_counts(ascending = False)\n",
    "cuisines_lessthan100= cuisines [cuisines<100]\n",
    "\n",
    "def handle_cuisines(value):\n",
    "    if(value in cuisines_lessthan100):\n",
    "        return 'others'\n",
    "    else:\n",
    "        return value \n",
    "df['cuisines']=df['cuisines'].apply(handle_cuisines)\n",
    "df['cuisines'].value_counts()"
   ]
  },
  {
   "cell_type": "code",
   "execution_count": null,
   "id": "501a01c1",
   "metadata": {
    "execution": {
     "iopub.status.busy": "2024-02-22T13:21:34.869758Z",
     "iopub.status.idle": "2024-02-22T13:21:34.870148Z",
     "shell.execute_reply": "2024-02-22T13:21:34.869990Z",
     "shell.execute_reply.started": "2024-02-22T13:21:34.869974Z"
    },
    "papermill": {
     "duration": null,
     "end_time": null,
     "exception": null,
     "start_time": null,
     "status": "pending"
    },
    "tags": []
   },
   "outputs": [],
   "source": [
    "df['Type'].value_counts()"
   ]
  },
  {
   "cell_type": "code",
   "execution_count": null,
   "id": "6d4bc70c",
   "metadata": {
    "execution": {
     "iopub.status.busy": "2024-02-22T13:21:34.872013Z",
     "iopub.status.idle": "2024-02-22T13:21:34.872589Z",
     "shell.execute_reply": "2024-02-22T13:21:34.872296Z",
     "shell.execute_reply.started": "2024-02-22T13:21:34.872279Z"
    },
    "papermill": {
     "duration": null,
     "end_time": null,
     "exception": null,
     "start_time": null,
     "status": "pending"
    },
    "tags": []
   },
   "outputs": [],
   "source": [
    "Data Claning is completed.Lets jump!! to Visualization"
   ]
  },
  {
   "cell_type": "code",
   "execution_count": null,
   "id": "930414f0",
   "metadata": {
    "execution": {
     "iopub.status.busy": "2024-02-22T13:21:34.874281Z",
     "iopub.status.idle": "2024-02-22T13:21:34.874848Z",
     "shell.execute_reply": "2024-02-22T13:21:34.874627Z",
     "shell.execute_reply.started": "2024-02-22T13:21:34.874607Z"
    },
    "papermill": {
     "duration": null,
     "end_time": null,
     "exception": null,
     "start_time": null,
     "status": "pending"
    },
    "tags": []
   },
   "outputs": [],
   "source": [
    "#Count plot of various location"
   ]
  },
  {
   "cell_type": "code",
   "execution_count": null,
   "id": "97e4fa9d",
   "metadata": {
    "execution": {
     "iopub.status.busy": "2024-02-22T13:21:34.876210Z",
     "iopub.status.idle": "2024-02-22T13:21:34.876709Z",
     "shell.execute_reply": "2024-02-22T13:21:34.876520Z",
     "shell.execute_reply.started": "2024-02-22T13:21:34.876502Z"
    },
    "papermill": {
     "duration": null,
     "end_time": null,
     "exception": null,
     "start_time": null,
     "status": "pending"
    },
    "tags": []
   },
   "outputs": [],
   "source": [
    "df['location']\n",
    "df['location']=pd.to_numeric(df['location'])"
   ]
  },
  {
   "cell_type": "code",
   "execution_count": null,
   "id": "4a513ef1",
   "metadata": {
    "execution": {
     "iopub.status.busy": "2024-02-22T13:21:34.878687Z",
     "iopub.status.idle": "2024-02-22T13:21:34.879232Z",
     "shell.execute_reply": "2024-02-22T13:21:34.879011Z",
     "shell.execute_reply.started": "2024-02-22T13:21:34.878993Z"
    },
    "papermill": {
     "duration": null,
     "end_time": null,
     "exception": null,
     "start_time": null,
     "status": "pending"
    },
    "tags": []
   },
   "outputs": [],
   "source": [
    "\n",
    "plt.figure(figsize=(20,8))\n",
    "a=sns.countplot(x='location',data=df)\n",
    "plt.xticks(rotation =90)"
   ]
  },
  {
   "cell_type": "code",
   "execution_count": null,
   "id": "64534f5f",
   "metadata": {
    "execution": {
     "iopub.status.busy": "2024-02-22T13:21:34.884906Z",
     "iopub.status.idle": "2024-02-22T13:21:34.885480Z",
     "shell.execute_reply": "2024-02-22T13:21:34.885260Z",
     "shell.execute_reply.started": "2024-02-22T13:21:34.885242Z"
    },
    "papermill": {
     "duration": null,
     "end_time": null,
     "exception": null,
     "start_time": null,
     "status": "pending"
    },
    "tags": []
   },
   "outputs": [],
   "source": [
    "plt.figure(figsize = (8,8))\n",
    "sns.countplot(x='online_order',data=df)"
   ]
  },
  {
   "cell_type": "code",
   "execution_count": null,
   "id": "f1632c6e",
   "metadata": {
    "execution": {
     "iopub.status.busy": "2024-02-22T13:21:34.888644Z",
     "iopub.status.idle": "2024-02-22T13:21:34.889186Z",
     "shell.execute_reply": "2024-02-22T13:21:34.888964Z",
     "shell.execute_reply.started": "2024-02-22T13:21:34.888946Z"
    },
    "papermill": {
     "duration": null,
     "end_time": null,
     "exception": null,
     "start_time": null,
     "status": "pending"
    },
    "tags": []
   },
   "outputs": [],
   "source": [
    "# Visualizing bookpalate\n",
    "plt.figure(figsize=(9,9))\n",
    "sns.countplot(x='book_table',data=df)"
   ]
  },
  {
   "cell_type": "code",
   "execution_count": null,
   "id": "77d075de",
   "metadata": {
    "execution": {
     "iopub.status.busy": "2024-02-22T13:21:34.891315Z",
     "iopub.status.idle": "2024-02-22T13:21:34.891777Z",
     "shell.execute_reply": "2024-02-22T13:21:34.891600Z",
     "shell.execute_reply.started": "2024-02-22T13:21:34.891582Z"
    },
    "papermill": {
     "duration": null,
     "end_time": null,
     "exception": null,
     "start_time": null,
     "status": "pending"
    },
    "tags": []
   },
   "outputs": [],
   "source": [
    "df.head()"
   ]
  },
  {
   "cell_type": "code",
   "execution_count": null,
   "id": "ab5f53e1",
   "metadata": {
    "execution": {
     "iopub.status.busy": "2024-02-22T13:21:34.893730Z",
     "iopub.status.idle": "2024-02-22T13:21:34.894120Z",
     "shell.execute_reply": "2024-02-22T13:21:34.893962Z",
     "shell.execute_reply.started": "2024-02-22T13:21:34.893946Z"
    },
    "papermill": {
     "duration": null,
     "end_time": null,
     "exception": null,
     "start_time": null,
     "status": "pending"
    },
    "tags": []
   },
   "outputs": [],
   "source": [
    "# Visualizing online_order vs rate\n",
    "plt.figure(figsize=(10,10))\n",
    "sns.boxplot(x=\"online_order\",y=\"rate\",data= df)\n",
    "# from the box plot we can say that restuarent with online order has max review rate  of 4.8 and least review is 2.8 and restuarent not havijng oline order heighest is 4.3 and lowest is 3.2  ane AVERAGE IS SAME FOR BOTH SO IT IS SAME "
   ]
  },
  {
   "cell_type": "code",
   "execution_count": null,
   "id": "8f31143c",
   "metadata": {
    "execution": {
     "iopub.status.busy": "2024-02-22T13:21:34.895524Z",
     "iopub.status.idle": "2024-02-22T13:21:34.895888Z",
     "shell.execute_reply": "2024-02-22T13:21:34.895735Z",
     "shell.execute_reply.started": "2024-02-22T13:21:34.895720Z"
    },
    "papermill": {
     "duration": null,
     "end_time": null,
     "exception": null,
     "start_time": null,
     "status": "pending"
    },
    "tags": []
   },
   "outputs": [],
   "source": [
    "plt.figure(figsize=(10,10))\n",
    "sns.boxplot(x=\"book_table\",y=\"rate\",data= df)\n",
    "#from graph max is restarent having bookplate haa rating 4.7 and least is 3.6 and the average rating is higher and not having book table max rate is 4.4 and least is 2.7"
   ]
  },
  {
   "cell_type": "code",
   "execution_count": null,
   "id": "d63c2631",
   "metadata": {
    "execution": {
     "iopub.status.busy": "2024-02-22T13:21:34.898137Z",
     "iopub.status.idle": "2024-02-22T13:21:34.898685Z",
     "shell.execute_reply": "2024-02-22T13:21:34.898475Z",
     "shell.execute_reply.started": "2024-02-22T13:21:34.898455Z"
    },
    "papermill": {
     "duration": null,
     "end_time": null,
     "exception": null,
     "start_time": null,
     "status": "pending"
    },
    "tags": []
   },
   "outputs": [],
   "source": [
    "df1=df.groupby(['location','online_order'])['name'].count()\n",
    "df1.to_csv('location_online.csv')\n",
    "df1=pd.read_csv('location_online.csv')\n",
    "df1=pd.pivot_table(df1,values=None,index='location',columns='online_order',fill_value=0,aggfunc=np.sum)\n",
    "df1"
   ]
  },
  {
   "cell_type": "code",
   "execution_count": null,
   "id": "fad6500c",
   "metadata": {
    "execution": {
     "iopub.status.busy": "2024-02-22T13:21:34.899907Z",
     "iopub.status.idle": "2024-02-22T13:21:34.900318Z",
     "shell.execute_reply": "2024-02-22T13:21:34.900151Z",
     "shell.execute_reply.started": "2024-02-22T13:21:34.900134Z"
    },
    "papermill": {
     "duration": null,
     "end_time": null,
     "exception": null,
     "start_time": null,
     "status": "pending"
    },
    "tags": []
   },
   "outputs": [],
   "source": [
    "df1.plot(kind='bar',figsize =(15,8))"
   ]
  },
  {
   "cell_type": "code",
   "execution_count": null,
   "id": "bf6f2532",
   "metadata": {
    "execution": {
     "iopub.status.busy": "2024-02-22T13:21:34.901882Z",
     "iopub.status.idle": "2024-02-22T13:21:34.902299Z",
     "shell.execute_reply": "2024-02-22T13:21:34.902135Z",
     "shell.execute_reply.started": "2024-02-22T13:21:34.902119Z"
    },
    "papermill": {
     "duration": null,
     "end_time": null,
     "exception": null,
     "start_time": null,
     "status": "pending"
    },
    "tags": []
   },
   "outputs": [],
   "source": [
    "df2=df.groupby(['location','book_table'])['name'].count()\n",
    "df2.to_csv('location_booktable.csv')\n",
    "df2=pd.read_csv('location_booktable.csv')\n",
    "df2=pd.pivot_table(df2,values=None,index='location',columns='book_table',fill_value=0,aggfunc=np.sum)\n",
    "df2"
   ]
  },
  {
   "cell_type": "code",
   "execution_count": null,
   "id": "c2b6757c",
   "metadata": {
    "execution": {
     "iopub.status.busy": "2024-02-22T13:21:34.903457Z",
     "iopub.status.idle": "2024-02-22T13:21:34.903827Z",
     "shell.execute_reply": "2024-02-22T13:21:34.903669Z",
     "shell.execute_reply.started": "2024-02-22T13:21:34.903654Z"
    },
    "papermill": {
     "duration": null,
     "end_time": null,
     "exception": null,
     "start_time": null,
     "status": "pending"
    },
    "tags": []
   },
   "outputs": [],
   "source": [
    "# Visualizing types of resturent\n",
    "plt.figure(figsize=(12,15))\n",
    "sns.boxplot(x=\"Type\",y=\"rate\",data=df,palette='inferno')\n"
   ]
  },
  {
   "cell_type": "code",
   "execution_count": null,
   "id": "095a5d7f",
   "metadata": {
    "execution": {
     "iopub.status.busy": "2024-02-22T13:21:34.906242Z",
     "iopub.status.idle": "2024-02-22T13:21:34.907241Z",
     "shell.execute_reply": "2024-02-22T13:21:34.907019Z",
     "shell.execute_reply.started": "2024-02-22T13:21:34.906997Z"
    },
    "papermill": {
     "duration": null,
     "end_time": null,
     "exception": null,
     "start_time": null,
     "status": "pending"
    },
    "tags": []
   },
   "outputs": [],
   "source": [
    "df.head()"
   ]
  },
  {
   "cell_type": "code",
   "execution_count": null,
   "id": "082d08e1",
   "metadata": {
    "execution": {
     "iopub.status.busy": "2024-02-22T13:21:34.908877Z",
     "iopub.status.idle": "2024-02-22T13:21:34.909288Z",
     "shell.execute_reply": "2024-02-22T13:21:34.909117Z",
     "shell.execute_reply.started": "2024-02-22T13:21:34.909101Z"
    },
    "papermill": {
     "duration": null,
     "end_time": null,
     "exception": null,
     "start_time": null,
     "status": "pending"
    },
    "tags": []
   },
   "outputs": [],
   "source": [
    "df3=df.groupby(['location','Type'])['name'].count()\n",
    "df3.to_csv('location_Type.csv')\n",
    "df3=pd.read_csv('location_Type.csv')\n",
    "df3=pd.pivot_table(df1,values=None,index='location',columns='Type',fill_value=0,aggfunc=np.sum)\n",
    "df3"
   ]
  },
  {
   "cell_type": "code",
   "execution_count": null,
   "id": "62975be7",
   "metadata": {
    "execution": {
     "iopub.status.busy": "2024-02-22T13:21:34.910293Z",
     "iopub.status.idle": "2024-02-22T13:21:34.910696Z",
     "shell.execute_reply": "2024-02-22T13:21:34.910534Z",
     "shell.execute_reply.started": "2024-02-22T13:21:34.910510Z"
    },
    "papermill": {
     "duration": null,
     "end_time": null,
     "exception": null,
     "start_time": null,
     "status": "pending"
    },
    "tags": []
   },
   "outputs": [],
   "source": [
    "plt.figure(figsize=(12,15))\n",
    "sns.boxplot(x=\"Type\",y=\"rate\",data=df,palette='inferno')\n"
   ]
  },
  {
   "cell_type": "code",
   "execution_count": null,
   "id": "31d831da",
   "metadata": {
    "execution": {
     "iopub.status.busy": "2024-02-22T13:21:34.911836Z",
     "iopub.status.idle": "2024-02-22T13:21:34.912186Z",
     "shell.execute_reply": "2024-02-22T13:21:34.912032Z",
     "shell.execute_reply.started": "2024-02-22T13:21:34.912016Z"
    },
    "papermill": {
     "duration": null,
     "end_time": null,
     "exception": null,
     "start_time": null,
     "status": "pending"
    },
    "tags": []
   },
   "outputs": [],
   "source": [
    "df3.plot(kind='bar',figsize=(40,8))"
   ]
  },
  {
   "cell_type": "code",
   "execution_count": null,
   "id": "e0a2443c",
   "metadata": {
    "execution": {
     "iopub.status.busy": "2024-02-22T13:21:34.913758Z",
     "iopub.status.idle": "2024-02-22T13:21:34.914129Z",
     "shell.execute_reply": "2024-02-22T13:21:34.913966Z",
     "shell.execute_reply.started": "2024-02-22T13:21:34.913948Z"
    },
    "papermill": {
     "duration": null,
     "end_time": null,
     "exception": null,
     "start_time": null,
     "status": "pending"
    },
    "tags": []
   },
   "outputs": [],
   "source": [
    "# No of votes given based on location\n",
    "df4=df[['location','votes']]\n",
    "df4.drop_duplicates()\n",
    "df5=df4.groupby(['location'])['votes'].sum()\n",
    "df5=df5.to_frame()\n",
    "df5=df5.sort_values('votes',ascending=False)\n",
    "df5.head()"
   ]
  },
  {
   "cell_type": "code",
   "execution_count": null,
   "id": "43114bb1",
   "metadata": {
    "execution": {
     "iopub.status.busy": "2024-02-22T13:21:34.915837Z",
     "iopub.status.idle": "2024-02-22T13:21:34.916298Z",
     "shell.execute_reply": "2024-02-22T13:21:34.916118Z",
     "shell.execute_reply.started": "2024-02-22T13:21:34.916100Z"
    },
    "papermill": {
     "duration": null,
     "end_time": null,
     "exception": null,
     "start_time": null,
     "status": "pending"
    },
    "tags": []
   },
   "outputs": [],
   "source": [
    "plt.figure(figsize=(15,10))\n",
    "sns.barplot(df5.index,df5['votes'])\n",
    "plt.xticks(rotation=90)"
   ]
  }
 ],
 "metadata": {
  "kaggle": {
   "accelerator": "none",
   "dataSources": [
    {
     "datasetId": 153420,
     "sourceId": 352891,
     "sourceType": "datasetVersion"
    }
   ],
   "dockerImageVersionId": 30646,
   "isGpuEnabled": false,
   "isInternetEnabled": true,
   "language": "python",
   "sourceType": "notebook"
  },
  "kernelspec": {
   "display_name": "Python 3",
   "language": "python",
   "name": "python3"
  },
  "language_info": {
   "codemirror_mode": {
    "name": "ipython",
    "version": 3
   },
   "file_extension": ".py",
   "mimetype": "text/x-python",
   "name": "python",
   "nbconvert_exporter": "python",
   "pygments_lexer": "ipython3",
   "version": "3.10.13"
  },
  "papermill": {
   "default_parameters": {},
   "duration": 19.866864,
   "end_time": "2024-02-22T13:30:08.125826",
   "environment_variables": {},
   "exception": true,
   "input_path": "__notebook__.ipynb",
   "output_path": "__notebook__.ipynb",
   "parameters": {},
   "start_time": "2024-02-22T13:29:48.258962",
   "version": "2.5.0"
  }
 },
 "nbformat": 4,
 "nbformat_minor": 5
}
